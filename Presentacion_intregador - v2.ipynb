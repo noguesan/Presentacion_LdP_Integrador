{
 "cells": [
  {
   "cell_type": "markdown",
   "id": "3584867d",
   "metadata": {
    "slideshow": {
     "slide_type": "slide"
    }
   },
   "source": [
    "<center>  \n",
    "<h1> Presentación: Herramientas utilizadas en el desarrollo de la aplicación web \"Encuesta Permanente de Hogares (EPH)\"\n",
    "<center>  "
   ]
  },
  {
   "cell_type": "markdown",
   "id": "6da73293",
   "metadata": {
    "slideshow": {
     "slide_type": "slide"
    }
   },
   "source": [
    "## Grupo:\n",
    "35\n",
    "\n",
    "## Integrantes proyecto\n",
    "Para proyecto desarrollo de la aplicación web \"Encuesta Permanente de Hogares (EPH)\":\n",
    "- Nogueira Santiago  \n",
    "- Caselli Felipe  \n",
    "- Benavidez Gregorio  \n",
    "- Martins Thiago  \n",
    "\n",
    "## Integrantes presentación:  \n",
    "\n",
    "- Nogueira Santiago  \n",
    "- Benavidez Gregorio  "
   ]
  },
  {
   "cell_type": "markdown",
   "id": "4f48187f",
   "metadata": {
    "slideshow": {
     "slide_type": "slide"
    }
   },
   "source": [
    "# 1. Introducción\n",
    "\n",
    "En esta presentación repasaremos brevemente las herramientas y tecnologías utilizadas durante el desarrollo del proyecto, y cómo fueron aplicadas —o cómo podrían haberse aplicado mejor— para optimizar la colaboración, el rendimiento y la calidad del código.\n"
   ]
  },
  {
   "cell_type": "markdown",
   "id": "c3020b7f",
   "metadata": {
    "slideshow": {
     "slide_type": "fragment"
    }
   },
   "source": [
    "## Modalidad de trabajo\n",
    "\n",
    "Durante el desarrollo del proyecto realizamos **reuniones periódicas**, complementadas con charlas por otros medios como **WhatsApp** y **Discord**.\n",
    "\n",
    "Objetivos de las reuniones:\n",
    "- Definir la dirección general del proyecto.\n",
    "- Dividir las tareas de manera equitativa.\n",
    "- Resolver dudas que iban surgiendo en el proceso.\n"
   ]
  },
  {
   "cell_type": "markdown",
   "id": "f483d1fc",
   "metadata": {
    "slideshow": {
     "slide_type": "fragment"
    }
   },
   "source": [
    "## Herramientas utilizadas\n",
    "\n",
    "1. **Herramientas Colaborativas**\n",
    "2. **IDE y extensiones** \n",
    "3. **Entornos virtuales**\n",
    "4. **Librerías**"
   ]
  },
  {
   "cell_type": "markdown",
   "id": "0c16dc6d",
   "metadata": {
    "slideshow": {
     "slide_type": "slide"
    }
   },
   "source": [
    "# 2. Herramientas utilizadas\n",
    "## 2.1 **Herramientas Colaborativas:** Git\n",
    "<p align=\"center\">\n",
    "  <img src=\"Imagenes/git2.png\" alt=\"Logo de Git\" width=\"200\"/>\n",
    "</p>"
   ]
  },
  {
   "cell_type": "markdown",
   "id": "ad046578",
   "metadata": {
    "slideshow": {
     "slide_type": "fragment"
    }
   },
   "source": [
    "## 2.1 GIT\n",
    "\n",
    "- Forma de trabajo: Cada integrante del equipo trabajó en módulos o archivos propios pero relacionados entre sí, dentro de una estructura común del proyecto.\n",
    "\n",
    "- Ramas usadas: principal y sidebar\n",
    "\n",
    "- Commits frecuentes: Frecuente para registrar cada avance, ya sea la incorporación de archivos nuevos o modificaciones funcionles en los existentes.\n",
    "\n",
    "- Titutlos de commtis: nombre de archivo/s modificados y modificacion\n",
    "\n",
    "- Uso de .gitignore: solo para los pycache. \n",
    "\n",
    "*Nota:el proyecto se inicio con github y despues se migro todo a gitlab\n",
    "\n",
    "\n",
    "\n",
    "\n"
   ]
  },
  {
   "cell_type": "markdown",
   "id": "a07a7ff4",
   "metadata": {
    "slideshow": {
     "slide_type": "slide"
    }
   },
   "source": [
    "## 2.2 IDE y Extensiones\n",
    "\n",
    "- **Editor:** VS Code\n",
    "- **Extensiones:**\n",
    "  - Jupyter\n",
    "  - Rainbow CSV\n",
    "  - GitLens\n",
    "  - GitHub Copilot\n",
    "  - RISE"
   ]
  },
  {
   "cell_type": "markdown",
   "id": "fbd6cbb6",
   "metadata": {
    "slideshow": {
     "slide_type": "subslide"
    }
   },
   "source": [
    "Jupyter:\n",
    "Permite abrir, visualizar y ejecutar notebooks .ipynb dentro de Visual Studio Code, integrando el entorno interactivo de Jupyter directamente en el editor.\n",
    "<p align=\"center\">\n",
    "  <img src=\"Imagenes/jupyter1.png\" alt=\"Logo de Jupyter\" width=\"200\"/>\n",
    "</p>\n",
    "Jupyter Keymap:\n",
    "Proporciona en VS Code atajos de teclado similares a los de Jupyter Notebook clásico, facilitando la transición y productividad al trabajar con notebooks dentro del editor."
   ]
  },
  {
   "cell_type": "markdown",
   "id": "1df95f99",
   "metadata": {
    "slideshow": {
     "slide_type": "subslide"
    }
   },
   "source": [
    "Rainbow CSV:\n",
    "Resalta con colores diferenciados cada columna de un archivo CSV o delimitado, facilitando la lectura, inspección y edición de archivos con múltiples columnas.\n",
    "\n",
    "<p align=\"center\">\n",
    "  <img src=\"Imagenes/rainbow CSV.jpg\" alt=\"Logo de rainbow\" width=\"200\"/>\n",
    "</p>\n"
   ]
  },
  {
   "cell_type": "markdown",
   "id": "200f1cfe",
   "metadata": {
    "slideshow": {
     "slide_type": "fragment"
    }
   },
   "source": [
    "\n",
    "\n",
    "Edit csv:\n",
    "Permite abrir, editar y visualizar archivos CSV en formato de tabla directamente en VS Code, facilitando la manipulación de datos sin necesidad de otros programas externos.\n",
    "<p align=\"center\">\n",
    "  <img src=\"Imagenes/edit csv.png\" alt=\"Logo de edit\" width=\"200\"/>\n",
    "</p>"
   ]
  },
  {
   "cell_type": "markdown",
   "id": "329c91b7",
   "metadata": {
    "slideshow": {
     "slide_type": "subslide"
    }
   },
   "source": [
    "GitLens:\n",
    "Potencia el trabajo con Git directamente en VS Code, mostrando el historial de cambios, el autor de cada línea de código y permitiendo navegar por los commits de forma visual e intuitiva.\n",
    "<p align=\"center\">\n",
    "  <img src=\"Imagenes/gitlens1.png\" alt=\"Logo de GitLens\" width=\"200\"/>\n",
    "</p>"
   ]
  },
  {
   "cell_type": "markdown",
   "id": "518b111a",
   "metadata": {
    "slideshow": {
     "slide_type": "subslide"
    }
   },
   "source": [
    "GitHub Copilot:\n",
    "Asistente de programación basado en Inteligencia Artificial, que sugiere líneas completas de código, funciones o soluciones a partir de lo que estás escribiendo.\n",
    "GitHubCopilot\n",
    "<p align=\"center\">\n",
    "  <img src=\"Imagenes/GitHubCopilot.jpg\" alt=\"Logo de GitHubCopilot\" width=\"200\"/>\n",
    "</p>"
   ]
  },
  {
   "cell_type": "markdown",
   "id": "38e71e9a",
   "metadata": {
    "slideshow": {
     "slide_type": "subslide"
    }
   },
   "source": [
    "RISE:\n",
    "Extensión para Jupyter Notebook clásico que permite transformar el notebook en una presentación interactiva estilo diapositivas, utilizando la librería Reveal.js, manteniendo la capacidad de ejecutar el código en vivo."
   ]
  },
  {
   "cell_type": "markdown",
   "id": "1a7db680",
   "metadata": {
    "slideshow": {
     "slide_type": "slide"
    }
   },
   "source": [
    "## 2.3 Entornos Virtuales\n",
    "\n",
    "### Ventajas\n",
    "Evitar conflictos de versiones  \n",
    "Mantener el sistema limpio  \n",
    "Facilita la reproducibilidad  \n",
    "Aislamiento  \n",
    "\n",
    "### Para su uso\n",
    "python -m venv nombre_entorno  \n",
    ".\\env\\Scripts\\activate  \n",
    "-Instar librerias.  \n",
    "\n",
    "### Buenas prácticas:\n",
    "pip freeze > requirements.txt  \n",
    "\n",
    "### Reflexión\n",
    "¿Se usó desde el principio? ¿Se compartió bien entre el equipo?  \n"
   ]
  },
  {
   "cell_type": "markdown",
   "id": "1e627b2c",
   "metadata": {
    "slideshow": {
     "slide_type": "skip"
    }
   },
   "source": [
    "Un entorno virtual en un proyecto de programación (especialmente en Python) sirve para crear un espacio aislado y controlado donde se pueden instalar y gestionar las librerías y dependencias que tu proyecto necesita, sin afectar ni mezclarse con otros proyectos o con las librerías globales del sistema.\n",
    "\n",
    "¿Por qué es útil un entorno virtual?\n",
    "Evitar conflictos de versiones:\n",
    "Cada proyecto puede necesitar versiones distintas de una misma librería. Por ejemplo, un proyecto puede usar pandas 1.3.0 y otro pandas 2.0.0. Si usás la instalación global, eso puede causar problemas. Con entornos virtuales, cada proyecto tiene su propia instalación.\n",
    "\n",
    "Mantener el sistema limpio:\n",
    "No instalás librerías globalmente que después no usás. Así el sistema operativo no se llena de paquetes innecesarios.\n",
    "\n",
    "Facilita la reproducibilidad:\n",
    "Al trabajar con un entorno virtual, podés generar un archivo (requirements.txt) con las dependencias exactas. Eso hace que otras personas o servidores puedan instalar exactamente lo mismo y tu proyecto funcione igual.\n",
    "\n",
    "Aislamiento:\n",
    "Cualquier cambio (instalación, actualización o borrado de librerías) afecta solo a ese entorno y no al resto del sistema ni otros proyectos"
   ]
  },
  {
   "cell_type": "markdown",
   "id": "1cf253fa",
   "metadata": {
    "slideshow": {
     "slide_type": "notes"
    }
   },
   "source": [
    "prueba de nota"
   ]
  },
  {
   "cell_type": "markdown",
   "id": "5e629aa9",
   "metadata": {
    "slideshow": {
     "slide_type": "slide"
    }
   },
   "source": [
    "## 2.4 Librerías de Python\n",
    "\n",
    "### Principales librerías utilizadas:\n",
    "\n",
    "- **Streamlit:** desarrollo del frontend web\n",
    "- **pandas:** manejo de datos tabulares\n",
    "- **Visualización de datos:**\n",
    "  - `matplotlib`, `seaborn`, `plotly`\n",
    "  - `folium` o `pydeck` para mapas\n",
    "\n",
    "### Ejemplo de uso\n",
    "```python\n",
    "import streamlit as st\n",
    "import pandas as pd\n",
    "\n",
    "df = pd.read_csv('data.csv')\n",
    "st.write(df.head())\n",
    "```\n",
    "\n",
    "### Reflexión\n",
    "¿Cuál fue el mayor desafío? ¿Qué se podría haber optimizado?\n"
   ]
  },
  {
   "cell_type": "markdown",
   "id": "d71d736f",
   "metadata": {
    "slideshow": {
     "slide_type": "slide"
    }
   },
   "source": [
    "### Reflexión general\n",
    "- ¿Qué aprendimos?\n",
    "- ¿Qué hicimos bien?\n",
    "- ¿Qué podríamos mejorar para futuros proyectos?\n",
    "\n",
    "### Recomendaciones\n",
    "- Mantener una estructura de carpetas clara.\n",
    "- Comunicación fluiida en el equipo.\n",
    "- Trabajar de forma planificada avances fechas.\n",
    "- Realizar revisiones de código y usar ramas claras.\n"
   ]
  },
  {
   "cell_type": "markdown",
   "id": "0c7847fc",
   "metadata": {
    "slideshow": {
     "slide_type": "slide"
    }
   },
   "source": [
    "# Muchas Gracias por su atención."
   ]
  }
 ],
 "metadata": {
  "celltoolbar": "Slideshow",
  "kernelspec": {
   "display_name": "Python 3 (ipykernel)",
   "language": "python",
   "name": "python3"
  },
  "language_info": {
   "codemirror_mode": {
    "name": "ipython",
    "version": 3
   },
   "file_extension": ".py",
   "mimetype": "text/x-python",
   "name": "python",
   "nbconvert_exporter": "python",
   "pygments_lexer": "ipython3",
   "version": "3.11.9"
  }
 },
 "nbformat": 4,
 "nbformat_minor": 5
}
